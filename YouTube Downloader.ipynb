{
  "nbformat": 4,
  "nbformat_minor": 0,
  "metadata": {
    "colab": {
      "name": "YouTube Downloader.ipynb",
      "provenance": [],
      "collapsed_sections": [],
      "authorship_tag": "ABX9TyNGDHV9mTIFnYBKlWfka0EW",
      "include_colab_link": true
    },
    "kernelspec": {
      "name": "python3",
      "display_name": "Python 3"
    }
  },
  "cells": [
    {
      "cell_type": "markdown",
      "metadata": {
        "id": "view-in-github",
        "colab_type": "text"
      },
      "source": [
        "<a href=\"https://colab.research.google.com/github/rugvedkoshiya/YouTube-Downloader/blob/main/YouTube%20Downloader.ipynb\" target=\"_parent\"><img src=\"https://colab.research.google.com/assets/colab-badge.svg\" alt=\"Open In Colab\"/></a>"
      ]
    },
    {
      "cell_type": "code",
      "metadata": {
        "cellView": "form",
        "id": "XSYk25sXvmCH"
      },
      "source": [
        "#@markdown <center><img src='https://upload.wikimedia.org/wikipedia/commons/thumb/d/da/Google_Drive_logo.png/600px-Google_Drive_logo.png' height=\"50\" alt=\"Gdrive-logo\"/></center>\n",
        "#@markdown <center><h2>Mount Gdrive to /gdrive</h2></center>\n",
        "MODE = \"MOUNT\" #@param [\"MOUNT\", \"UNMOUNT\"]\n",
        "#Mount your Gdrive! \n",
        "from google.colab import drive\n",
        "drive.mount._DEBUG = False\n",
        "if MODE == \"MOUNT\":\n",
        "  drive.mount('/gdrive', force_remount=True)\n",
        "elif MODE == \"UNMOUNT\":\n",
        "  try:\n",
        "    drive.flush_and_unmount()\n",
        "  except ValueError:\n",
        "    pass\n",
        "  get_ipython().system_raw(\"rm -rf /root/.config/Google/DriveFS\")"
      ],
      "execution_count": null,
      "outputs": []
    },
    {
      "cell_type": "code",
      "metadata": {
        "id": "k11QZf4Vwdqz"
      },
      "source": [
        "cd \"/gdrive/My Drive/\""
      ],
      "execution_count": null,
      "outputs": []
    },
    {
      "cell_type": "code",
      "metadata": {
        "id": "3Ud3BqBcwPVr"
      },
      "source": [
        "ls"
      ],
      "execution_count": null,
      "outputs": []
    },
    {
      "cell_type": "code",
      "metadata": {
        "cellView": "form",
        "id": "qCp4eZ5jm1FB"
      },
      "source": [
        "#@markdown <center><img src='https://upload.wikimedia.org/wikipedia/commons/thumb/0/09/YouTube_full-color_icon_%282017%29.svg/1024px-YouTube_full-color_icon_%282017%29.svg.png' height=\"50\" alt=\"Gdrive-logo\"/></center>\n",
        "#@markdown <center><h2>YouTube Playlist/Video Downloader</h2></center><br>\n",
        "!pip install pytube3\n",
        "!pip install pytube\n",
        "\n",
        "from pytube import Playlist\n",
        "from pytube import YouTube\n",
        "import re\n",
        "\n",
        "# pip install pytube3\n",
        "# pip install pytube\n",
        "\n",
        "DOWNLOAD_DIR = \"/gdrive/My Drive/\" # @param {type:\"string\"}\n",
        "LINK = \"https://www.youtube.com/playlist?list=PLwgFb6VsUj_ljELwA2JM8TEYpuWDOx5I-\"  # @param {type:\"string\"}\n",
        "TYPE = \"Playlist\" # @param ['Playlist', 'Video']\n",
        "RESOLUTION = \"Highest\" # @param ['Highest', '720p', '360p']\n",
        "ARCHIVE = False # @param {type:\"boolean\"}\n",
        "#@markdown <h6>&nbsp; &nbsp;Archive work with <b>Playlist</b> Only</h6>\n",
        "\n",
        "\n",
        "\n",
        "\n",
        "def playlist_true(quality):\n",
        "  playlist = Playlist(LINK)\n",
        "  cmd = f\"cd '{DOWNLOAD_DIR}' && mkdir '{playlist.title}'\"\n",
        "  !$cmd\n",
        "\n",
        "  count = 1\n",
        "  for url in playlist.video_urls:\n",
        "    video = YouTube(url)\n",
        "    if quality == \"Highest\":\n",
        "      yt = video.streams.get_highest_resolution()\n",
        "    else:\n",
        "      yt = video.streams.get_by_resolution(quality)\n",
        "    yt.download(output_path = f\"{DOWNLOAD_DIR}/{playlist.title}\", filename_prefix = f\"{count} \")\n",
        "    print(f\"✓ {yt.default_filename}\")\n",
        "    count += 1\n",
        "  print(\"Done ✓\\nDownload Complete !\")\n",
        "  if ARCHIVE == True:\n",
        "    print(\"\\nMaking a ZIP File...\\n\")\n",
        "    archive_cmd = f\"zip -r '{DOWNLOAD_DIR}/{playlist.title}.zip' '{playlist.title}'\"\n",
        "    !$archive_cmd\n",
        "    print(\"Done ✓\\nArchiving Complete !\")\n",
        "\n",
        "def video_true(quality):\n",
        "  video = YouTube(LINK)\n",
        "  if quality == \"Highest\":\n",
        "      yt = video.streams.get_highest_resolution()\n",
        "  else:\n",
        "      yt = video.streams.get_by_resolution(quality)\n",
        "  yt.download(output_path = DOWNLOAD_DIR)\n",
        "  print(f\"✓ {yt.default_filename}\")\n",
        "  print(\"Done ✓\\nDownload Complete !\")\n",
        "\n",
        "if TYPE == \"Playlist\":\n",
        "  if \"playlist\" in LINK: \n",
        "    if RESOLUTION == \"Highest\":\n",
        "      playlist_true(\"Highest\")\n",
        "    elif RESOLUTION == \"360p\":\n",
        "      playlist_true(\"360p\")\n",
        "    elif RESOLUTION == \"720p\":\n",
        "      playlist_true(\"720p\")\n",
        "  else:\n",
        "    print(\"Enter Correct URL Like Below :\\nhttps://www.youtube.com/playlist?list=XXXXXXXXX\")\n",
        "\n",
        "elif TYPE == \"Video\":\n",
        "  if \"watch\" in LINK:\n",
        "    if RESOLUTION == \"Highest\":\n",
        "      video_true(\"Highest\")\n",
        "    elif RESOLUTION == \"360p\":\n",
        "      video_true(\"360p\")\n",
        "    elif RESOLUTION == \"720p\":\n",
        "      video_true(\"720p\")\n",
        "  else:\n",
        "    print(\"Enter Correct URL Like Below :\\nhttps://www.youtube.com/watch?v=XXXXXXXXX\")"
      ],
      "execution_count": null,
      "outputs": []
    }
  ]
}